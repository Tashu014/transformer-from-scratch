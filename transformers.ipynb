{
  "nbformat": 4,
  "nbformat_minor": 0,
  "metadata": {
    "colab": {
      "provenance": []
    },
    "kernelspec": {
      "name": "python3",
      "display_name": "Python 3"
    },
    "language_info": {
      "name": "python"
    }
  },
  "cells": [
    {
      "cell_type": "code",
      "execution_count": null,
      "metadata": {
        "id": "RlBvQKOrAbGP"
      },
      "outputs": [],
      "source": [
        "# !pip3 install torch"
      ]
    },
    {
      "cell_type": "code",
      "source": [
        "# !pip3 install numpy"
      ],
      "metadata": {
        "id": "_vsS3zWIBdeq"
      },
      "execution_count": null,
      "outputs": []
    },
    {
      "cell_type": "code",
      "source": [
        "import numpy as np\n",
        "import torch\n",
        "import torch.nn as nn"
      ],
      "metadata": {
        "id": "BZV17T84Bkom"
      },
      "execution_count": null,
      "outputs": []
    },
    {
      "cell_type": "markdown",
      "source": [
        "![{B1C4348A-F404-4C8F-9D66-7EB8D6ADD8FB}.png](data:image/png;base64,iVBORw0KGgoAAAANSUhEUgAAAS8AAABaCAYAAADpRtAeAAAAAXNSR0IArs4c6QAAAARnQU1BAACxjwv8YQUAAAAJcEhZcwAAEnQAABJ0Ad5mH3gAABeRSURBVHhe7Z0JuFTjH8df+xpKQhJRQihKRdqVJUWLJZUWJbts1VO2JHuLJGuPChWJQqQFoZQSJZSlFMkSQorQ+b+fX+e9/3OnuXdm7p1755y5v8/zzHOnd85M55w55zu/7f2923kWoyiKEjG29/8qiqJEChUvRVEiiYqXoiiRRMVLUZRIouKlKEokUfFSFCWSqHgpihJJVLwURYkkKl6KokQSFS9FUSKJTg9SlGLmzz//NMOHDzdr1671R7Zll112MSeeeKKpXr26qVq1qj+qBFHLS1GKmU8++cSMGTPGHHHEEaZz586mV69eMvbWW2+Ziy++2Nx4442mTp065o477jArVqzw36XEouKlZCXLly83F154ofn666/9kfAwe/ZsM2LECHPllVeamjVrml133dV8//33Ymkdd9xx5uCDDzbt2rUzzZs3N/vvv7//rv/DMXFsHGNJRsVLyTqWLFliunfvbnr06GEOPfRQfzQc/P777+bHH380tWvX9ke2Cu23335r6tWrZ7bbbjt/1Ji99torrnhxTNdcc4259NJLS7SAqXgpWcU333wjN/UNN9xgGjdu7I9uyz///CNu2uOPP26uvvpqc+utt5rffvvNfzU1fvnlFzN27FjTpEkTc/TRR8sDIXrwwQfNH3/84W+1FcTrzDPPFGFyfPTRR2J9nXDCCf6IMf/++6+pVauWKVOmjD+SG9xK3M2uXbvKMZdICNgrSjZgLRrPWjRe7969vS1btvij8fn555+9Vq1aedZF80qVKuVZF82zQuO/mhwbN270hg4d6pUtW9Y7//zzvXnz5nmbNm2Sx4QJE7zy5ct71kry5s+f779jW9i2bdu2nnUZvXXr1vmjycExcqwtW7b0rPD6oyUHFS8lK9i8ebN31VVXeaeddlpKN/Kzzz4r4mUtNX8kOayb5zVo0MCrUKGCN3PmzLhiuXDhQnm9SpUq3ldffeWP5mbNmjWetdQ8ay0mFNx4IMINGzaUY+cclCTUbVSyAtw2K0TmlltuyeWSJeLtt9+WvwTLkwU37ayzzpJM4OTJk03Tpk1zxaocuIHWIpNg/MiRIzEU/Ff+j4t38f/H+4xE4Fbeeeed5vnnnzcvvfSSP1oyUPFSIg8ics8995guXbqYk046yR9NzPr1683HH39sSpcuLfVUyUDM6oorrjDWkjK33XabZAvzAjFC2OC1116LW9f1wQcfbBPvShWC/23atDEDBgwwq1ev9kezHxUvJdIQ2B4yZIg879mzZ0rWCyUHy5Ytk+xdvKxeLFhOgwYNkkD/KaecYi644AL/lbzhc3fbbTezbt06yTIG+euvv8y8efPMIYccIuURBWXHHXcUQSU5MHToUDknJQEVLyXSvP/++2bChAnmoosuMpUqVfJHk+Pzzz83mzZtEstln332kTGykFhJFIoiLEEWL15sRo8eLc+7detm9thjD3meH3///bd8Jv9PrOWFO8lnYr3llVVMliOPPNK0bdvWPPXUU2bRokX+aHaj4qVEFkTh0UcfFcsGtykVqwsr6s0335TnLt71ww8/mE6dOokrt++++0otlbOW2P7pp58WEaIyvkGDBjKeiJ9++kksIfYRK+y///4z119/vZRT8Bn8n88995ypVq2alD1s3LjRf2dqcOznnXeePH/kkUdKhvVlvxRFiSSUIFiR8exN71kh80eT49dff5VsYcWKFT3rOnqrV6/22rdvL88nTpwoGcijjjrKs9aSbE8ZA+UMjKeSGRwwYIC8p3Llyt7KlSv90aKB0o1zzjnHK1eunPfhhx/6o9mLWl5KJLHXrlgsWF9MlSHukwrBeBcTpfv16ydBfyZBO+vn1FNPFQsMVq1aJQ+g+DUZK4/Pda5nlSpVzH777SfPiwqsuw4dOoh1iJXIOcpmVLyUSEL8iNgUosB8wFRx8a7vvvvODBw40Nx99905QXPiZ2QV6fyw0047yRjuHdsjkskG1xE7splgLaKkYmSFhap83FOSCris2YyKlxJJ5s6dK/VWxKtStWiwSFy8i4wfz5na89hjj4kllx+IGRZOMkyZMkWmHFn307Ru3dofLVoqVKhg6tatK+K8cOFCfzQ7UfFSIgfiM2vWLHmerAsXBEH59NNPpb5r5syZIoKUPjAfkm4P8TjwwAOTFi2g9uzJJ58022+/vbikRe0yOrAM3ZzOl19+OatdRxUvJXLgMlIZn0pxaRDE6osvvpDygoMOOsiUKlVK6qQQJ9rV4B4y2Rq30U2sxlWkHovXXCEowjBnzhxz7rnnysRuFyvDervvvvukFIJC1latWsl4cVGjRg05FrKmHEe2ouKlRA5iSQhYssWlsXz22Wdmw4YNEivbc889ZczFtHC7uPGpv6JBoLO2CNy3b99enjMliFIEpuMwLYl4GaUP/KWuC8EaN26cNBZEFFO1DAsLx8B5+fLLL8V9zFZUvJTIgUWBeFSuXNnsvffe/mjyLFiwQP4G5zMyRQeROfzww8VyGj9+vFTQB7OYiFGjRo3MCy+8YEaNGmUmTZoktWC8p0WLFlITRr0ZdVZkLu+///6cgH9xwtxOatE4Rwh1trKD/ZW4zX+uKKEHV43AOjErJj2nMpcRcO0obKWMgSp6VwpRrlw5sbZeeeUVeVAyQdZxhx12kNeBvvJnn322ZCLvuusuKbXgddzDBx54wLz44osSLGeCOAkA4l0uAcDz4gLBZd9IanBc9A9LBs4tMxYI9PP+4IPMJS528Dg4l2+88YZZunRpznZYe5zT3Xff3d+qCLE7rIQce7N4gwYN8qybIwWIffr08ezN579asqDnFr23KPx89dVX/dHUsC6jPGKxlor0BKPNTKIiVOtmetZt9G666Sbp6TVt2jTv9NNP92bMmOFvsbVNz+DBg1Pu05UOXKufVPqUcZ1Za1Na+PBeHtay9ayQez179pTeY0EWLVrkVatWLWfbMmXKeE2bNvVWrFjhb1G0qHiFHCq/abBn3RKp0G7cuLFcKFOnTvW3KFnQR4ubKWxV5K5iv0OHDvLDggBee+21Xv/+/f0tihdrEXnWfcw1SyBZ2H8aHHKdXXLJJf5ofNyPibVipcK/ONGYV4ghZkHshELKe++9N2fyLqa7vbDEbKeFMYHlkgLuixUKieu4ydRhAFeNuBlB/AMOOECSCbiRVLxnAjKx7I8VUXFrUwGXj9IQIDOLi50XuI2409YCTamUJB2oeIUY0tyUBHAhkT3ihrWukmTb6tevb6xrI1m3RIWV2QTHS1aQQDg3Z1hgX4gJOfiBGTZsmBSoZgIElNgT56oglfaUkQCtfCjkjQefS6yvb9++KTWATBcqXiEGccL6Klu2bM6Nyl+XYVuzZo3UK5UkgnVXrswhDGB5EcSn0JW+YlTtE9zPFIiny5QiYKnihJiSkng/jtZrk8QH05FSTZqki9CJFyeFbAeZICqUY088r+MmpWoKZxuch4kTJ4olUpJAsIEsX3HXTyUC65g21BSoHn/88f5oZmAeJfVeQNfXVCEsAXm5nZSrTJ8+PSN1bI7QiRcxA1YKpi0uFwKVHNyoDtLZpKGpaA4L/DIxSZheUBQ+svQW005uv/32nKprR3BbmtBRJ4RYB48RGJs2bZpYGhRQkr6nOJKe57iTdA+ljojP41ee13gQHwNEf8aMGdLb/Oabb5ZiSv4PUtn0PCdWxpizZNie91933XWyPctxxe4TuO2oeeJYqR5/+OGHcz7HQVxq6tSp5p133pGLH9HBBWacfaTUgXEexFWSXRyWflhAXCZYxqCkFzcdCpeR7ywIMTDuUYSrYsWK/mgGsBdoaGCFldatW0u6etmyZdJr6YwzzsiV1h41apRkQezN64/kzZw5c7xjjz1WMi4FedgvyP+kvGHf2rRp43Xr1s2zN6X0lbIC69WrV2+bfV+1apVkpFjqasmSJZIFmjRpklepUiWvX79+uVZ/6du3b66UNc/ZpyeeeEJeI+NGGpvXeL/bZ7JMwDkkC0T6mm26dOniWVHyrGh5Vjy9ESNGSC+sZs2aeVaoZF+tCHlWCL2OHTvKeygBCJYMcGw9evSQ/5f9Zv/J+HGsLPFF6tyxdOlSr27durJv7hjYZ8ZnzZqVs+882IbjSgayX7wnURaspMN1x3fKuUp1ZSQgs00PMt4/ZcoUf3QrLOvGUm/FnV2MJVTihSA5UYq3JBU3DzcWKWB3k+aHq9vhJivIw1oZ/iflDfvB8lbWjPZHtjJ79mwRNSde7AclDyxTRRo9CCKLkAwcODCXWLAPTpR4HsRdnIlKBubOneuVLl1aztmwYcNyPp+/NNXjHCOM1tKTcXAXLsJPPZOD54zxnuCPh3Xj5RxQxhG77Jhbkoz3WEtR/l8eiD3LlFH6kAoqXsnh7pWCnqu8vmt+gBs1aiQ/eJkmVG6jvRmlqhlTlUZzO++8s0x6deAu4TZi0jL9IRG4FczmJ/NSkEcy2Sz2lS4FuInOpQH6qZOxca6NtSxkqgZLZsX2K8f9woUkAJru6RyY/mTmiH9wLl18gr/uHLLCTXD1Go6b9+CuOjcUOJe4nLgLruUw4Dowt48KazKhQfgcXH8+n75Z9JmixzquIqtVBzN0SvogWF+YKvd4MTOSRyzwwTXMNZtpQiVe3Oykd2knMn/+fDlBLmULnETWuDvmmGNypnVkGup52BdiAEzFIAbEMu/ctKw0gxAQIyD2A/QqjwUhQeQQQepmigI6IrgsZSyIWDDoan9t5bhiYRsuXLJqiA77y3ER2yKljngHBdyBWA8ePFg+l+XJiJchgoVZMaegkNKP4qO4CdZ68T0jXHzX/PBgYASvl0wRylIJWudywpgEG/zi3IRc5o8lYxVxI1GL4gLDqT7yqm8JYl06mWvHjUnwHMuif//+IlJYFta6lWB2fgFpfuXcjew6b4YVAvZYiIcddpiIHhOUrUvsv5o3WJZYYAR/eZ91SfxXihfmJUbxkSrcJ7HJolRAnJyHQMZx7dq1UjDdp0+fYutNlohQihdWFwTrR/gyGOek5rfQZxC2xyUiO1mQB9ZCMjRr1kzEiV5QZBixGBEynuMGBmtu4oHAcXxQmF9ZhAHhd5+VbriJmAxNGUv37t3lmFkKjGXAErWmcSIOZFERfKXooDUPogMFvabKly8vf/GEcBcJhXCth4VQihcQqwkqPL/umKzJxrvg5JNPNkuWLJG0fEEeWFCJoEwB9xA3kdqeXr16iXmN8Dk3kIvH7TNxoVj4heSXDerUqSN/CwLxJiqeuXCLAqwsLEtcRwQsr+kglHkEY2XA+4hjMkOAFjJMd8KSThV61gPnqzCWRUnCiVCquJAN3yU/OHznXOdhIZTiRbwF98TdADwnRkKQN0zxLsC1ZA5b0HXCOqRXFDc3cTBcXKwTLDDcwljLCNeWSnlc0IYNG/qjBaMoized8HJswYsYkQ4G6nGXSaw4+N6oy6MujXbLQ4YMESvs8ssvT3nqikuAcA6x5pSig7mjzmNgrUlCBWEilOJFNotlp3r06CEBXqwRLByoV69eUvGu4oRulaxUHAxWk1zgy3exHcztrl27SoEnCzO4Gw9h5qZGBEeOHCnWJq+RWaWwk3EePA/G4YiTEVfj/fRgAmYeMEaw1cX7sFBwYXH5+DFAaEgg8FlkE4G//JvP4v9lO7bnfbyfz+HzOPfw+uuv58RhGGfFat7P9ryfv1z0CDpFx1hqW7ZsyUkCIH64n7jUzItD3HhfMmLkspP8v2EWr2eeeUYs7lQe6SQYZ8XSLQhMv+Jeoyc+jRlDh70AQgm1QNRD2ZtHapqoWaFeibqlMEFPKeq3KK6tWbOmZ60Jqb+idmr69On+Vlux1oIsaGp/wXIKS60b7DVp0sSzN7K/Ve4Cw9hHsIcVNVL0T6Lg07qlUnDq6qY4b3x+7Pup+aFuJ3ach3Xr4v6/rs6Mmi1qxSh8Zf+p1bKuuYzNmzdPClXZ3rrO3oIFC6QGLfg5rl4o3v/P/+tq4vKD42d7t09hhT5X1PpliuD3H3sdJgvfB/3Iinqx3IISKvHi5rDuhVTWU7jpoAiTGyHZC7w4sdZKTjEr+8ZFg+givnkRK8yFwX0WRbCIY3HA8bLvPNyxA8+L+vtx14Jb6TqMjB49WoqRM4k7TzzyK2KOMqFyG91yUWTN1q9fL2O4J8xxpGCVIsfiWLgzFTCrnRvLvlHcSoo5v7iTS0OzbWGPx30W7qaLBxU1HG+8Ql6eF/X3w3HSqwr3Ob8+U5nCCrhMzKakIJNwD3GOiA/zPWUjoRIvLn6C3L1795YSB2ItBHUJcrN8ebIlEkr2QqGtW4KMguWwQQ0cPybWS/BH8oYYJRlYsnhMlCczni64d6xxInFG6zr6o9lFqMSLi5JpNASESe8StKdfEF9qYbNwSnaAZeemrYRtWS+SFqwchBAlgmwppSd0IEXwWLSDpEa6cJlhMoRh81bSReiyjaTSqZOiwI50O3VT2frLoaQObrLrlUW2EusiLJBxLleunGnXrp0/kjdkYykZoScWBb78cKdruhTuorPignNWs41QlkooSn4QPuDmpzcZpR9hgNIExIt6vlSgvo9SFUpqcDfTAXFirFLO0VEZakNdHKh4KZGD2QosOMuNT41YGGCaFHV91CWmwnvvvSd/qaFLV3ExsUAEkXOU7GyUKKLipUQOLBSsrw0bNqS9hVBBIH5FQoki5FRgehNTqUhS1ahRwx8tPHTBJaHRoEGDtFlzYUTFS4kcWChko4E5d4hHJhk7dqws/5VIvJhFwLYE9Fl/gClViC/xLh7pgHPhZqPQXCBd1lwYUfFSIgmT7glw0zkkmZY8BYEJ7slYdriM+QkXSYXx48dLXGv16tWmY8eOMm2K3m/pjnfhMtJZBHeRTH02o+KlRBK6i1BLRcxr7ty5/mj6YG5qixYtpGNIfjCvkxKHvMQL4aLTB4uyUM9Fp5LatWtL1xHXHDKd8S7muSKIbdu2lcxnNqPipUQSbnZaUTPzgonu6XQdWXGJNRcRAiykBQsW+K9sy5gxY6S3WV4QkKfLLjE6MpFOpJiITQFpOuNdxLmw8BDFTK4ZWVyoeCmRhRomXC9qpZYuXeqPFg5qDIcPHy6fV7VqVRmjgDQeCBs1VXllGBETVs3evHmzadmyZa7OERS0UseYzngXM1HYfzqYZHOW0aHipUQW6phwx2iPQ7YvHQWr9evXl/UlgV7tgGsYr+9YIquL+BYxOawr2soEWblypcTqEMi81hZIBY6dqUbMbyUhwLnJdlS8lEiD9UWvqUmTJsXtUlsYEC96WlH0iVAFmTVrljQS6NChgz+yLbzOBOl41fNYSAgOopYOoSGxgIWIFVi9enV/NLtR8VIiDTc+q3zT2fWhhx5Ka+wLi+iyyy6T57GuIxlGGikmA0vDBecXuuk7rgKeWQIjRoyQKv2CwDHTyJJuG5lcfr+4UfFSIg+Tj2mXNG7cOLFo0olzHZcvXy7WHZDdpJaKbrD54doo05Ym2DqIeBr76SrgWS8BMcO9LAh8FuJKq22EsqSg4qVkBW3atJH6KayhePGpgoLL16lTJ3mOtQX0nCMQnwhacpNJZBqTa5uNK4l1hPVVtmxZyZYiis2bNy+Q+0jh64ABA0z79u0leVGS2M763eFtBK4oKYBAIGCUIFBHla6VbrCK6HYCBPOZduPEKBG8F/HD8mLpMMQLF+/dd9+VpfHokEGDRdrjpNq6hrUCWBiDXvUkLNLdBz/sqHgpWQVFq61bt5aC0ERuXSpg1bB8G8WoJAk6d+7sv5IYsqFYSEAlvet4S6yLMorgWLJw21L8imixelUmVh/POIiXomQTixcv9qy75k2ePNkfKTwzZszIWSwkDHBstWrVCm0f/+JAY15K1sGK5dRmEcR2y38VFrr6soQY6ylkGo6JWQAcnyukLYmo26goSiRRy0tRlEii4qUoSiRR8VIUJZKoeCmKEklUvBRFiSQqXoqiRBIVL0VRIomKl6IokUTFS1GUSKLipShKJFHxUhQlkqh4KYoSSVS8FEWJJCpeiqJEEhUvRVEiiYqXoiiRRMVLUZRIouKlKEoEMeZ/MPZ+fg2Qwm8AAAAASUVORK5CYII=)"
      ],
      "metadata": {
        "id": "XxR9YBiyB0H9"
      }
    },
    {
      "cell_type": "markdown",
      "source": [
        "![{79E37E0E-30CC-4447-98D9-219000AF6731}.png](data:image/png;base64,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)"
      ],
      "metadata": {
        "id": "qyEMcr_dEjZz"
      }
    },
    {
      "cell_type": "markdown",
      "source": [
        "### This function implements the self-attention mechanism:\n",
        "\n",
        "It transforms the input into three components: keys, queries, and values.\n",
        "It computes the attention scores between each token (based on the similarity of its key to all other queries), scales the scores for numerical stability, and applies a mask to block certain positions from attending to others.\n",
        "The softmax function converts the attention scores into probabilities.\n",
        "The output is a weighted sum of the value vectors, followed by a linear transformation using W_out."
      ],
      "metadata": {
        "id": "OSbAa7knKEFz"
      }
    },
    {
      "cell_type": "code",
      "source": [
        "def softmax(z):\n",
        "  z = np.exp(z - z.max(axis= -1, keepdims= True))\n",
        "  return z / z.sum(axis = -1, keepdims = True)\n",
        "\n",
        "def self_attention(x, mask, W_kqv, W_out):\n",
        "  k,q,v = np.split(x@W_kqv, 3, axis=1)\n",
        "  attn = softmax(k@q.T / np.sqrt(x.shape[1]) + mask)\n",
        "  return attn@v@W_out, attn"
      ],
      "metadata": {
        "id": "MqhCWCZ8BsO0"
      },
      "execution_count": null,
      "outputs": []
    },
    {
      "cell_type": "code",
      "source": [
        "T, d = 100, 64\n",
        "attn = nn.MultiheadAttention(d, 1, bias=False, batch_first=True)\n",
        "M = torch.triu(-float(\"inf\")*torch.ones(T,T),1)\n",
        "X = torch.randn(1,T,d)\n",
        "Y_, A_ = attn(X,X,X, attn_mask=M)"
      ],
      "metadata": {
        "id": "3W1KtygTKlwD"
      },
      "execution_count": null,
      "outputs": []
    },
    {
      "cell_type": "code",
      "source": [
        "attn.in_proj_weight.shape"
      ],
      "metadata": {
        "colab": {
          "base_uri": "https://localhost:8080/"
        },
        "id": "bgRKHGsbObum",
        "outputId": "3b59f9a2-ebab-4bf4-bd63-6dcb50565f81"
      },
      "execution_count": null,
      "outputs": [
        {
          "output_type": "execute_result",
          "data": {
            "text/plain": [
              "torch.Size([192, 64])"
            ]
          },
          "metadata": {},
          "execution_count": 8
        }
      ]
    },
    {
      "cell_type": "code",
      "source": [
        "Y,A = self_attention(X[0].numpy(), M.numpy(),\n",
        "                     attn.in_proj_weight.detach().numpy().T,\n",
        "                     attn.out_proj.weight.detach().numpy().T)"
      ],
      "metadata": {
        "id": "icIMd5zONhEj"
      },
      "execution_count": null,
      "outputs": []
    },
    {
      "cell_type": "code",
      "source": [
        "np.linalg.norm(Y - Y_[0].detach().numpy())"
      ],
      "metadata": {
        "colab": {
          "base_uri": "https://localhost:8080/"
        },
        "id": "RsL_fOS1O8bc",
        "outputId": "ed0fd223-18fc-4820-f1e3-5fa7c613ca9b"
      },
      "execution_count": null,
      "outputs": [
        {
          "output_type": "execute_result",
          "data": {
            "text/plain": [
              "1.692292e-06"
            ]
          },
          "metadata": {},
          "execution_count": 10
        }
      ]
    },
    {
      "cell_type": "markdown",
      "source": [
        "## Minibatching"
      ],
      "metadata": {
        "id": "ueDVWstvaNhO"
      }
    },
    {
      "cell_type": "code",
      "source": [
        "c = np.random.randn(5,4,10,3)\n",
        "d = np.random.randn(3,6)\n",
        "(c@d).shape"
      ],
      "metadata": {
        "colab": {
          "base_uri": "https://localhost:8080/"
        },
        "id": "ijmHZb1jYMHg",
        "outputId": "1d1d2e4f-1f2f-4053-e249-d32bc9343a4a"
      },
      "execution_count": null,
      "outputs": [
        {
          "output_type": "execute_result",
          "data": {
            "text/plain": [
              "(5, 4, 10, 6)"
            ]
          },
          "metadata": {},
          "execution_count": 11
        }
      ]
    },
    {
      "cell_type": "code",
      "source": [
        "c.reshape(-1,3).shape"
      ],
      "metadata": {
        "colab": {
          "base_uri": "https://localhost:8080/"
        },
        "id": "O-G9WuyEcK29",
        "outputId": "f2f136d2-917d-4ffc-ec56-39c82dbdff21"
      },
      "execution_count": null,
      "outputs": [
        {
          "output_type": "execute_result",
          "data": {
            "text/plain": [
              "(200, 3)"
            ]
          },
          "metadata": {},
          "execution_count": 12
        }
      ]
    },
    {
      "cell_type": "code",
      "source": [
        "def self_attention(x, mask, W_kqv, W_out):\n",
        "  k,q,v = np.split(x@W_kqv, 3, axis=-1)\n",
        "  attn = softmax(k@q.swapaxes(-1,-2) / np.sqrt(x.shape[-1]) + mask)\n",
        "  return attn@v@W_out, attn"
      ],
      "metadata": {
        "id": "PWDtM8m9cWdw"
      },
      "execution_count": null,
      "outputs": []
    },
    {
      "cell_type": "code",
      "source": [
        "B,T,d = 50,100,64\n",
        "X = torch.randn(B,T,d)\n",
        "M = torch.triu(-float(\"inf\")*torch.ones(T,T), 1)\n",
        "Y_, A_ = attn(X,X,X, attn_mask=M)"
      ],
      "metadata": {
        "id": "lRHm7-XAdfA3"
      },
      "execution_count": null,
      "outputs": []
    },
    {
      "cell_type": "code",
      "source": [
        "Y, A = self_attention(X.numpy(), M.numpy(),\n",
        "                      attn.in_proj_weight.detach().numpy().T,\n",
        "                      attn.out_proj.weight.detach().numpy().T)"
      ],
      "metadata": {
        "id": "8TJLYmVNeLmS"
      },
      "execution_count": null,
      "outputs": []
    },
    {
      "cell_type": "code",
      "source": [
        "np.linalg.norm(A - A_.detach().numpy())"
      ],
      "metadata": {
        "colab": {
          "base_uri": "https://localhost:8080/"
        },
        "id": "hDcoxT1hfE7w",
        "outputId": "001189e5-c222-490a-a379-cc2c69267939"
      },
      "execution_count": null,
      "outputs": [
        {
          "output_type": "execute_result",
          "data": {
            "text/plain": [
              "1.6088802e-06"
            ]
          },
          "metadata": {},
          "execution_count": 16
        }
      ]
    },
    {
      "cell_type": "markdown",
      "source": [
        "## Multihead attention"
      ],
      "metadata": {
        "id": "0rR29p8IfapU"
      }
    },
    {
      "cell_type": "code",
      "source": [
        "def multihead_attention(X, mask, heads, W_kqv, W_out):\n",
        "  B,T,d= X.shape\n",
        "  K,Q,V = np.split(X@W_kqv, 3, axis= -1)\n",
        "  K,Q,V = [a.reshape(B, T, heads, d // heads).swapaxes(1,2) for a in (K,Q,V)]\n",
        "  attn = softmax(K@Q.swapaxes(-1,-2) / np.sqrt(d // heads) + mask)\n",
        "  return (attn@V).swapaxes(1,2).reshape(B,T,d) @ W_out, attn\n"
      ],
      "metadata": {
        "id": "DlLEEqddfIR1"
      },
      "execution_count": null,
      "outputs": []
    },
    {
      "cell_type": "code",
      "source": [
        "heads = 4\n",
        "attn = nn.MultiheadAttention(d, heads, bias = False, batch_first=True)\n",
        "Y_, A_ = attn(X,X,X, attn_mask = M)"
      ],
      "metadata": {
        "id": "Lv5Kk-vmavbA"
      },
      "execution_count": null,
      "outputs": []
    },
    {
      "cell_type": "code",
      "source": [
        "Y, A = multihead_attention(X.numpy(), M.numpy(), heads,\n",
        "                           attn.in_proj_weight.detach().numpy().T,\n",
        "                           attn.out_proj.weight.detach().numpy().T)"
      ],
      "metadata": {
        "id": "FA3DHmCia9zC"
      },
      "execution_count": null,
      "outputs": []
    },
    {
      "cell_type": "code",
      "source": [
        "np.linalg.norm(A.mean(axis=1) - A_.detach().numpy())"
      ],
      "metadata": {
        "colab": {
          "base_uri": "https://localhost:8080/"
        },
        "id": "nvYM7KGobdkU",
        "outputId": "6f7a366d-39cf-47fe-e0a4-8f98cdb50a2a"
      },
      "execution_count": null,
      "outputs": [
        {
          "output_type": "execute_result",
          "data": {
            "text/plain": [
              "1.0400792e-06"
            ]
          },
          "metadata": {},
          "execution_count": 25
        }
      ]
    },
    {
      "cell_type": "markdown",
      "source": [
        "## Transformer Block"
      ],
      "metadata": {
        "id": "ShDGyGBDcXzd"
      }
    },
    {
      "cell_type": "code",
      "source": [
        "def layer_norm(z, eps):\n",
        "  return (z - z.mean(axis=-1, keepdims=True)) / np.sqrt(z.var(axis=-1, keepdims=True) + eps)\n",
        "\n",
        "def relu(z):\n",
        "  return np.maximum(z,0)\n",
        "\n",
        "def transformer(x,mask, heads, W_kqv, W_out, W_ff1, W_ff2, eps):\n",
        "  z = layer_norm(x + multihead_attention(x, mask, heads, W_kqv, W_out)[0], eps)\n",
        "  return layer_norm(z + relu(z@W_ff1)@W_ff2, eps)"
      ],
      "metadata": {
        "id": "7vwozqambzg6"
      },
      "execution_count": null,
      "outputs": []
    },
    {
      "cell_type": "code",
      "source": [
        "trans = nn.TransformerEncoderLayer(d, heads, dim_feedforward=128, dropout=0.0, batch_first=True)\n",
        "trans.linear1.bias.data.zero_()\n",
        "trans.linear2.bias.data.zero_()\n",
        "Y_ = trans(X,M)"
      ],
      "metadata": {
        "id": "XyExw4bde_LA"
      },
      "execution_count": null,
      "outputs": []
    },
    {
      "cell_type": "code",
      "source": [
        "Y = transformer(X.numpy(), M.numpy(), heads,\n",
        "                trans.self_attn.in_proj_weight.detach().numpy().T,\n",
        "                trans.self_attn.out_proj.weight.detach().numpy().T,\n",
        "                trans.linear1.weight.detach().numpy().T,\n",
        "                trans.linear2.weight.detach().numpy().T,\n",
        "                trans.norm1.eps)"
      ],
      "metadata": {
        "id": "FQbCdHOCgAPv"
      },
      "execution_count": null,
      "outputs": []
    },
    {
      "cell_type": "code",
      "source": [
        "np.linalg.norm(Y - Y_.detach().numpy())"
      ],
      "metadata": {
        "colab": {
          "base_uri": "https://localhost:8080/"
        },
        "id": "T0GatYmtg9gn",
        "outputId": "3606707d-2311-4a1f-95c6-af156d39413b"
      },
      "execution_count": null,
      "outputs": [
        {
          "output_type": "execute_result",
          "data": {
            "text/plain": [
              "5.9700644e-05"
            ]
          },
          "metadata": {},
          "execution_count": 34
        }
      ]
    },
    {
      "cell_type": "code",
      "source": [],
      "metadata": {
        "id": "ExGshBoziDW7"
      },
      "execution_count": null,
      "outputs": []
    }
  ]
}